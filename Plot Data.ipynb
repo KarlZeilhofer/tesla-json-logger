{
 "cells": [
  {
   "cell_type": "code",
   "execution_count": null,
   "metadata": {
    "collapsed": true
   },
   "outputs": [],
   "source": [
    "%matplotlib inline"
   ]
  },
  {
   "cell_type": "code",
   "execution_count": null,
   "metadata": {
    "collapsed": true
   },
   "outputs": [],
   "source": [
    "import os\n",
    "import glob\n",
    "import json\n",
    "import datetime\n",
    "import numpy as np\n",
    "import matplotlib\n",
    "import matplotlib.pyplot as plt"
   ]
  },
  {
   "cell_type": "code",
   "execution_count": null,
   "metadata": {
    "collapsed": true
   },
   "outputs": [],
   "source": [
    "def objFromFile(filename):\n",
    "    with open(filename, 'r') as fobj:\n",
    "        json_str = fobj.readline()\n",
    "        fobj.close()\n",
    "    return json.loads(json_str)"
   ]
  },
  {
   "cell_type": "code",
   "execution_count": null,
   "metadata": {},
   "outputs": [],
   "source": [
    "data_home = os.path.expanduser('~/Documents/Tesla')\n",
    "folders = glob.glob('{}/2*'.format(data_home))\n",
    "folders.sort()\n",
    "\n",
    "t = []\n",
    "d = []\n",
    "for folder in folders:\n",
    "    files = glob.glob('{}/*.json'.format(folder))\n",
    "    files.sort()\n",
    "    dd = []\n",
    "    for file in files:\n",
    "        #print('{}'.format(file))\n",
    "        data = objFromFile(file)\n",
    "        dd.append(data)\n",
    "    d.append(dd)\n",
    "    o = d[-1][-1]['charge_state']\n",
    "    t.append(datetime.datetime.fromtimestamp(o['timestamp'] / 1000))\n",
    "    print('{} -> {}% {} {}'.format(os.path.basename(file), o['battery_level'], o['charging_state'], t[-1].weekday()))"
   ]
  },
  {
   "cell_type": "code",
   "execution_count": null,
   "metadata": {},
   "outputs": [],
   "source": [
    "# Find the previous Sunday\n",
    "t0 = t[0]\n",
    "oneday = datetime.timedelta(days=1)\n",
    "while t0.weekday() != 6:\n",
    "    t0 -= oneday\n",
    "# display('{}'.format(t0.strftime('%Y/%m/%d %H:%M %A')))\n",
    "\n",
    "# The first Sunday\n",
    "t0 = datetime.datetime.strptime(t0.strftime('%Y-%m-%d'), '%Y-%m-%d')\n",
    "display('{}'.format(t0.strftime('%Y/%m/%d %H:%M %A')))\n",
    "\n",
    "# Group the weeks\n",
    "tt = []\n",
    "dd = []\n",
    "k = 0\n",
    "# while k < len(t):\n",
    "for i in range(4):\n",
    "    tw = []\n",
    "    dw = []\n",
    "    for i in range(7):\n",
    "        if k < len(t) and t0 <= t[k] and t[k] < (t0 + oneday):\n",
    "            tw.append(t[k])\n",
    "            dw.append(d[k])\n",
    "            k += 1\n",
    "        else:\n",
    "            tw.append(t0)\n",
    "            dw.append(None)\n",
    "        t0 += oneday\n",
    "    tt.append(tw)\n",
    "    dd.append(dw)\n",
    "display(tt)"
   ]
  },
  {
   "cell_type": "code",
   "execution_count": null,
   "metadata": {
    "collapsed": true
   },
   "outputs": [],
   "source": [
    "import font\n",
    "\n",
    "# bgColor = (1.0, 1.0, 1.0)\n",
    "bgColor = (0.9, 0.9, 0.92)\n",
    "o = 0.04\n",
    "\n",
    "class WeeklyChart:\n",
    "    def __init__(self, dpi=72, figsize=(900, 600), t=1.0):\n",
    "        self._dpi = dpi\n",
    "        self._figsize = figsize\n",
    "        self.featureScale = t\n",
    "        self.fontproperties = font.Properties(scale=t)\n",
    "\n",
    "        # Use a separate set of context properties\n",
    "        context_properties = {\n",
    "            'font.family': 'serif',\n",
    "            'font.serif': ['Arial', 'DejaVu Serif'],\n",
    "            'axes.edgecolor': 'white',\n",
    "            'axes.facecolor': 'black',\n",
    "            'axes.labelcolor': 'white',\n",
    "            'axes.linewidth': 1.0 * self.featureScale,\n",
    "            'axes.titlepad': 8.0 * self.featureScale,\n",
    "            'grid.color': 'white',\n",
    "            'hatch.color': 'white',\n",
    "            'text.color': 'white',\n",
    "            'xtick.color': 'white',\n",
    "            'xtick.direction': 'in',\n",
    "            'xtick.major.pad': 9.0 * self.featureScale,\n",
    "            'xtick.major.size': 4.0 * self.featureScale,\n",
    "            'xtick.major.width': 1.0 * self.featureScale,\n",
    "            'ytick.color': 'white',\n",
    "            'ytick.direction': 'in',\n",
    "            'ytick.major.pad': 7.5 * self.featureScale,\n",
    "        }\n",
    "        with matplotlib.pyplot.rc_context(context_properties):\n",
    "            # Create a new figure\n",
    "            w, h = self._figsize[0], self._figsize[1]    # Axis width & height in points\n",
    "            figsize = np.array([w, h]) / self._dpi       # Figure size in inches\n",
    "            self.fig = matplotlib.pyplot.figure(figsize=figsize, dpi=self._dpi, frameon=False)\n",
    "            self.fig.patch.set_alpha(0.0)\n",
    "            self.dat = matplotlib.pyplot.axes([0.0, 0.0, 1.0, 1.0], facecolor=None)\n",
    "            self.dat.set_xlim((0, 7.0 + o))\n",
    "            self.dat.set_ylim((0, 4.6 + o))\n",
    "            self.dat.xaxis.set_visible(False)\n",
    "            self.dat.yaxis.set_visible(False)\n",
    "            self.dat.spines['top'].set_visible(False)\n",
    "            self.dat.spines['right'].set_visible(False)\n",
    "            self.dat.spines['bottom'].set_visible(False)\n",
    "            self.dat.spines['left'].set_visible(False)\n",
    "            self.dat.patch.set_visible(False)\n",
    "            self.fig.canvas.draw()\n",
    "        \n",
    "        #ef = ImageFont.truetype('Symbola.ttf', size=36, encoding='unic')\n",
    "        \n",
    "        w = 1.0 - o\n",
    "        h = 1.0 - o\n",
    "        \n",
    "        def compute_xr(x, w):\n",
    "            return x + 0.96 * w\n",
    "        \n",
    "        y = 4.5\n",
    "        label = self.dat.text(o, y, '{}'.format(tt[0][0].strftime('%B')),\n",
    "                              fontproperties=matplotlib.font_manager.FontProperties(style='normal', size=28, weight='bold'),\n",
    "                              horizontalalignment='left', verticalalignment='top')\n",
    "        # Get the end of label\n",
    "        box = label.get_window_extent().bounds\n",
    "        self.dat.text(o + (box[0] + box[2]) / self._figsize[0] * (7.0 + o), y,\n",
    "                      '{}'.format(tt[0][0].strftime('%Y')),\n",
    "                      fontproperties=matplotlib.font_manager.FontProperties(style='normal', size=28, weight='normal'),\n",
    "                      horizontalalignment='left', verticalalignment='top')\n",
    "\n",
    "        self.dat.text(1.5, y, u'A\\U0001F61EB',\n",
    "                      fontproperties=matplotlib.font_manager.FontProperties(style='normal', size=28, weight='normal'),\n",
    "                      horizontalalignment='left', verticalalignment='top')\n",
    "\n",
    "        y -= 0.4\n",
    "        for i in range(7):\n",
    "            x = i + o\n",
    "            xr = compute_xr(x, w)\n",
    "            self.dat.text(xr, y, '{}'.format(tt[0][i].strftime('%a')),\n",
    "                          fontproperties=matplotlib.font_manager.FontProperties(style='normal', size=16, weight='normal'),\n",
    "                          horizontalalignment='right', verticalalignment='center')\n",
    "\n",
    "        \n",
    "        m = tt[0][0].month\n",
    "        for j in range(len(tt)):\n",
    "            for i in range(len(tt[j])):\n",
    "                x = i + o\n",
    "                y = 3.0 - j + o\n",
    "                xc = x + 0.5 * w\n",
    "                xr = compute_xr(x, w)\n",
    "                \n",
    "                # Outline of the frame\n",
    "                rect = matplotlib.patches.Rectangle(xy=(x, y),\n",
    "                                                    fill=False,\n",
    "                                                    snap=True,\n",
    "                                                    width=w,\n",
    "                                                    height=h,\n",
    "                                                    edgecolor='#999999',\n",
    "                                                    linewidth=1.0,\n",
    "                                                    alpha=1.0,\n",
    "                                                    zorder=100)\n",
    "                self.dat.add_patch(rect)\n",
    "\n",
    "                # The day label.\n",
    "                if m != tt[j][i].month:\n",
    "                    m = tt[j][i].month\n",
    "                    dayString = '{}'.format(tt[j][i].strftime('%b %-d'))\n",
    "                else:\n",
    "                    dayString = '{}'.format(tt[j][i].strftime('%-d'))\n",
    "                self.dat.text(xr, y + 0.9, dayString,\n",
    "                              fontproperties=matplotlib.font_manager.FontProperties(style='normal', size=14, weight='normal'),\n",
    "                              horizontalalignment='right', verticalalignment='top')\n",
    "                \n",
    "                # Patch background\n",
    "                rect = matplotlib.patches.Rectangle(xy=(x, y),\n",
    "                                                    snap=True,\n",
    "                                                    fill=True,\n",
    "                                                    width=w,\n",
    "                                                    height=h,\n",
    "                                                    facecolor='#ffffff', zorder=1)\n",
    "                self.dat.add_patch(rect)\n",
    "                if dd[j][i] is None:\n",
    "                    continue\n",
    "\n",
    "                # Battery level\n",
    "                color = '#88ff00'\n",
    "                dayArray = dd[j][i]\n",
    "                batteryLevel = dayArray[-1]['charge_state']['battery_level']\n",
    "                if batteryLevel <= 60.0:\n",
    "                    color = '#ffbb00'\n",
    "                rect = matplotlib.patches.Rectangle(xy=(x, y),\n",
    "                                                    fill=True,\n",
    "                                                    snap=True,\n",
    "                                                    width=w,\n",
    "                                                    height=batteryLevel / 100 * h,\n",
    "                                                    facecolor=color,\n",
    "                                                    edgecolor=None,\n",
    "                                                    alpha=0.7,\n",
    "                                                    zorder=2)\n",
    "                self.dat.add_patch(rect)\n",
    "                self.dat.text(xc, y + 0.1, '{}'.format(tt[j][i].strftime('%I:%M %p')),\n",
    "                             fontproperties=matplotlib.font_manager.FontProperties(style='normal', size=14, weight='normal'),\n",
    "                             horizontalalignment='center', verticalalignment='bottom')\n",
    "                self.dat.text(xc, y + 0.24, '({})'.format(len(dayArray)),\n",
    "                             fontproperties=matplotlib.font_manager.FontProperties(style='normal', size=11, weight='normal'),\n",
    "                             horizontalalignment='center', verticalalignment='bottom')\n",
    "                self.dat.text(xc, y + 0.5, '{}%'.format(batteryLevel),\n",
    "                             fontproperties=matplotlib.font_manager.FontProperties(style='normal', size=24, weight='bold'),\n",
    "                             color='#000000',\n",
    "                             horizontalalignment='center', verticalalignment='center')\n"
   ]
  },
  {
   "cell_type": "code",
   "execution_count": null,
   "metadata": {},
   "outputs": [],
   "source": [
    "view = WeeklyChart()"
   ]
  },
  {
   "cell_type": "code",
   "execution_count": null,
   "metadata": {
    "collapsed": true
   },
   "outputs": [],
   "source": [
    "fig = plt.figure(figsize=(12, 3), dpi=96)\n",
    "plt.subplots_adjust(bottom=0.2)\n",
    "plt.xticks(rotation=35)\n",
    "ax = plt.gca()\n",
    "xfmt = matplotlib.dates.DateFormatter('%Y-%m-%d')\n",
    "ax.xaxis.set_major_formatter(xfmt)\n",
    "# plt.plot(t, b, '.-')\n",
    "plt.stem(t, b)\n",
    "plt.grid()"
   ]
  },
  {
   "cell_type": "code",
   "execution_count": null,
   "metadata": {
    "collapsed": true
   },
   "outputs": [],
   "source": [
    "t = []\n",
    "b = []\n",
    "for file in files:\n",
    "    data = objFromFile(file)\n",
    "    o = data['drive_state']\n",
    "    \n",
    "    o = data['charge_state']\n",
    "    t.append(datetime.datetime.fromtimestamp(o['timestamp'] / 1000))\n",
    "    b.append(o['battery_level'])\n",
    "    print('{} -> {}% {}'.format(os.path.basename(file), o['battery_level'], o['charging_state']))"
   ]
  },
  {
   "cell_type": "code",
   "execution_count": null,
   "metadata": {
    "collapsed": true
   },
   "outputs": [],
   "source": [
    "fig = plt.figure(figsize=(12, 3), dpi=96)\n",
    "plt.subplots_adjust(bottom=0.2)\n",
    "plt.xticks(rotation=25)\n",
    "ax = plt.gca()\n",
    "xfmt = matplotlib.dates.DateFormatter('%Y-%m-%d %H:%M:%S')\n",
    "ax.xaxis.set_major_formatter(xfmt)\n",
    "# plt.plot(t, b, '.-')\n",
    "plt.stem(t, b)"
   ]
  },
  {
   "cell_type": "code",
   "execution_count": null,
   "metadata": {
    "collapsed": true
   },
   "outputs": [],
   "source": [
    "for file in files[-5:]:\n",
    "    data = objFromFile(file)\n",
    "    display(file)\n",
    "    display(data['drive_state'])"
   ]
  },
  {
   "cell_type": "code",
   "execution_count": null,
   "metadata": {
    "collapsed": true
   },
   "outputs": [],
   "source": []
  }
 ],
 "metadata": {
  "kernelspec": {
   "display_name": "Python 3",
   "language": "python",
   "name": "python3"
  },
  "language_info": {
   "codemirror_mode": {
    "name": "ipython",
    "version": 3
   },
   "file_extension": ".py",
   "mimetype": "text/x-python",
   "name": "python",
   "nbconvert_exporter": "python",
   "pygments_lexer": "ipython3",
   "version": "3.6.5"
  }
 },
 "nbformat": 4,
 "nbformat_minor": 2
}
