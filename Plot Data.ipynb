{
 "cells": [
  {
   "cell_type": "code",
   "execution_count": null,
   "metadata": {},
   "outputs": [],
   "source": [
    "%matplotlib inline"
   ]
  },
  {
   "cell_type": "code",
   "execution_count": null,
   "metadata": {},
   "outputs": [],
   "source": [
    "import os\n",
    "import glob\n",
    "import json\n",
    "import datetime\n",
    "import numpy as np\n",
    "import matplotlib\n",
    "import matplotlib.pyplot as plt"
   ]
  },
  {
   "cell_type": "code",
   "execution_count": null,
   "metadata": {},
   "outputs": [],
   "source": [
    "def objFromFile(filename):\n",
    "    with open(filename, 'r') as fobj:\n",
    "        json_str = fobj.readline()\n",
    "        fobj.close()\n",
    "    return json.loads(json_str)"
   ]
  },
  {
   "cell_type": "code",
   "execution_count": null,
   "metadata": {},
   "outputs": [],
   "source": [
    "data_home = os.path.expanduser('~/Documents/Tesla')\n",
    "folders = glob.glob('{}/2*'.format(data_home))\n",
    "folders.sort()\n",
    "\n",
    "t = []\n",
    "b = []\n",
    "for folder in folders:\n",
    "    files = glob.glob('{}/*.json'.format(folder))\n",
    "    files.sort()\n",
    "    file = files[-1]\n",
    "    # print('{}'.format(file))\n",
    "    data = objFromFile(file)\n",
    "    o = data['charge_state']\n",
    "    t.append(datetime.datetime.fromtimestamp(o['timestamp'] / 1000))\n",
    "    b.append(o['battery_level'])\n",
    "    print('{} -> {}% {} {}'.format(os.path.basename(file), o['battery_level'], o['charging_state'], t[-1].weekday()))"
   ]
  },
  {
   "cell_type": "code",
   "execution_count": null,
   "metadata": {},
   "outputs": [],
   "source": [
    "# Find the previous Sunday\n",
    "d = t[0]\n",
    "oneday = datetime.timedelta(days=1)\n",
    "while d.weekday() != 6:\n",
    "    d -= oneday\n",
    "# display('{}'.format(d.strftime('%Y/%m/%d %H:%M %A')))\n",
    "\n",
    "# Start time\n",
    "s = datetime.datetime.strptime(d.strftime('%Y-%m-%d'), '%Y-%m-%d')\n",
    "# display('{}'.format(s.strftime('%Y/%m/%d %H:%M %A')))\n",
    "\n",
    "# Group the weeks\n",
    "tt = []\n",
    "bb = []\n",
    "k = 0\n",
    "while k < len(t):\n",
    "    tw = []\n",
    "    bw = []\n",
    "    for i in range(7):\n",
    "        tw.append(s)\n",
    "        if k < len(t) and s <= t[k] and t[k] < (s + oneday):\n",
    "            bw.append(b[k])\n",
    "            k += 1\n",
    "        else:\n",
    "            bw.append(np.nan)\n",
    "        s += oneday\n",
    "    tt.append(tw)\n",
    "    bb.append(bw)\n"
   ]
  },
  {
   "cell_type": "code",
   "execution_count": null,
   "metadata": {},
   "outputs": [],
   "source": [
    "import font\n",
    "\n",
    "# bgColor = (1.0, 1.0, 1.0)\n",
    "bgColor = (0.77, 0.77, 0.8)\n",
    "\n",
    "class WeeklyChart:\n",
    "    def __init__(self, dpi=72, figsize=(1280, 720), t=1.0):\n",
    "        self._dpi = dpi\n",
    "        self._figsize = figsize\n",
    "        self.featureScale = t\n",
    "        self.fontproperties = font.Properties(scale=t)\n",
    "\n",
    "        # Use a separate set of context properties\n",
    "        context_properties = {\n",
    "            'font.family': 'serif',\n",
    "            'font.serif': ['Arial', 'DejaVu Serif'],\n",
    "            'axes.edgecolor': 'white',\n",
    "            'axes.facecolor': 'black',\n",
    "            'axes.labelcolor': 'white',\n",
    "            'axes.linewidth': 1.0 * self.featureScale,\n",
    "            'axes.titlepad': 8.0 * self.featureScale,\n",
    "            'grid.color': 'white',\n",
    "            'hatch.color': 'white',\n",
    "            'text.color': 'white',\n",
    "            'xtick.color': 'white',\n",
    "            'xtick.direction': 'in',\n",
    "            'xtick.major.pad': 9.0 * self.featureScale,\n",
    "            'xtick.major.size': 4.0 * self.featureScale,\n",
    "            'xtick.major.width': 1.0 * self.featureScale,\n",
    "            'ytick.color': 'white',\n",
    "            'ytick.direction': 'in',\n",
    "            'ytick.major.pad': 7.5 * self.featureScale,\n",
    "        }\n",
    "        with matplotlib.pyplot.rc_context(context_properties):\n",
    "            # Create a new figure\n",
    "            w, h = self._figsize[0], self._figsize[1]    # Axis width & height in points\n",
    "            figsize = np.array([w, h]) / self._dpi       # Figure size in inches\n",
    "            self.fig_dat = matplotlib.pyplot.figure(figsize=figsize, dpi=self._dpi, frameon=False)\n",
    "            self.dat = matplotlib.pyplot.axes([0.0, 0.0, 1.0, 1.0], facecolor=bgColor)\n",
    "            self.dat.set_xlim((0, 7))\n",
    "            self.dat.set_ylim((0, 4))\n",
    "            self.dat.xaxis.set_visible(False)\n",
    "            self.dat.yaxis.set_visible(False)\n",
    "            self.dat.spines['top'].set_visible(False)\n",
    "            self.dat.spines['right'].set_visible(False)\n",
    "            self.dat.spines['bottom'].set_visible(False)\n",
    "            self.dat.spines['left'].set_visible(False)\n",
    "            self.dat.patch.set_facecolor(bgColor)\n",
    "            self.fig_dat.canvas.draw()"
   ]
  },
  {
   "cell_type": "code",
   "execution_count": null,
   "metadata": {},
   "outputs": [],
   "source": [
    "view = WeeklyChart()"
   ]
  },
  {
   "cell_type": "code",
   "execution_count": null,
   "metadata": {},
   "outputs": [],
   "source": [
    "fig = plt.figure(figsize=(12, 3), dpi=96)\n",
    "plt.subplots_adjust(bottom=0.2)\n",
    "plt.xticks(rotation=35)\n",
    "ax = plt.gca()\n",
    "xfmt = matplotlib.dates.DateFormatter('%Y-%m-%d')\n",
    "ax.xaxis.set_major_formatter(xfmt)\n",
    "# plt.plot(t, b, '.-')\n",
    "plt.stem(t, b)\n",
    "plt.grid()"
   ]
  },
  {
   "cell_type": "code",
   "execution_count": null,
   "metadata": {},
   "outputs": [],
   "source": [
    "t = []\n",
    "b = []\n",
    "for file in files:\n",
    "    data = objFromFile(file)\n",
    "    o = data['drive_state']\n",
    "    \n",
    "    o = data['charge_state']\n",
    "    t.append(datetime.datetime.fromtimestamp(o['timestamp'] / 1000))\n",
    "    b.append(o['battery_level'])\n",
    "    print('{} -> {}% {}'.format(os.path.basename(file), o['battery_level'], o['charging_state']))"
   ]
  },
  {
   "cell_type": "code",
   "execution_count": null,
   "metadata": {},
   "outputs": [],
   "source": [
    "fig = plt.figure(figsize=(12, 3), dpi=96)\n",
    "plt.subplots_adjust(bottom=0.2)\n",
    "plt.xticks(rotation=25)\n",
    "ax = plt.gca()\n",
    "xfmt = matplotlib.dates.DateFormatter('%Y-%m-%d %H:%M:%S')\n",
    "ax.xaxis.set_major_formatter(xfmt)\n",
    "# plt.plot(t, b, '.-')\n",
    "plt.stem(t, b)"
   ]
  },
  {
   "cell_type": "code",
   "execution_count": null,
   "metadata": {},
   "outputs": [],
   "source": [
    "for file in files[-5:]:\n",
    "    data = objFromFile(file)\n",
    "    display(file)\n",
    "    display(data['drive_state'])"
   ]
  },
  {
   "cell_type": "code",
   "execution_count": null,
   "metadata": {},
   "outputs": [],
   "source": []
  }
 ],
 "metadata": {
  "kernelspec": {
   "display_name": "Python 3",
   "language": "python",
   "name": "python3"
  },
  "language_info": {
   "codemirror_mode": {
    "name": "ipython",
    "version": 3
   },
   "file_extension": ".py",
   "mimetype": "text/x-python",
   "name": "python",
   "nbconvert_exporter": "python",
   "pygments_lexer": "ipython3",
   "version": "3.6.5"
  }
 },
 "nbformat": 4,
 "nbformat_minor": 2
}
