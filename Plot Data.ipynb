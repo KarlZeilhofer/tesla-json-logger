{
 "cells": [
  {
   "cell_type": "code",
   "execution_count": null,
   "metadata": {},
   "outputs": [],
   "source": [
    "%matplotlib inline"
   ]
  },
  {
   "cell_type": "code",
   "execution_count": null,
   "metadata": {},
   "outputs": [],
   "source": [
    "import os\n",
    "import glob\n",
    "import json\n",
    "import datetime\n",
    "import numpy as np\n",
    "import matplotlib\n",
    "import matplotlib.pyplot as plt"
   ]
  },
  {
   "cell_type": "code",
   "execution_count": null,
   "metadata": {},
   "outputs": [],
   "source": [
    "def objFromFile(filename):\n",
    "    with open(filename, 'r') as fobj:\n",
    "        json_str = fobj.readline()\n",
    "        fobj.close()\n",
    "    return json.loads(json_str)"
   ]
  },
  {
   "cell_type": "code",
   "execution_count": null,
   "metadata": {},
   "outputs": [],
   "source": [
    "data_home = os.path.expanduser('~/Documents/Tesla')\n",
    "folders = glob.glob('{}/2*'.format(data_home))\n",
    "folders.sort()\n",
    "\n",
    "t = []\n",
    "b = []\n",
    "for folder in folders:\n",
    "    files = glob.glob('{}/*.json'.format(folder))\n",
    "    files.sort()\n",
    "    file = files[-1]\n",
    "    # print('{}'.format(file))\n",
    "    data = objFromFile(file)\n",
    "    o = data['charge_state']\n",
    "    t.append(datetime.datetime.fromtimestamp(o['timestamp'] / 1000))\n",
    "    b.append(o['battery_level'])\n",
    "    print('{} -> {}% {}'.format(os.path.basename(file), o['battery_level'], o['charging_state']))"
   ]
  },
  {
   "cell_type": "code",
   "execution_count": null,
   "metadata": {},
   "outputs": [],
   "source": [
    "fig = plt.figure(figsize=(12, 3), dpi=96)\n",
    "plt.subplots_adjust(bottom=0.2)\n",
    "plt.xticks(rotation=25)\n",
    "ax = plt.gca()\n",
    "xfmt = matplotlib.dates.DateFormatter('%Y-%m-%d')\n",
    "ax.xaxis.set_major_formatter(xfmt)\n",
    "# plt.plot(t, b, '.-')\n",
    "plt.stem(t, b)\n",
    "plt.grid()"
   ]
  },
  {
   "cell_type": "code",
   "execution_count": null,
   "metadata": {},
   "outputs": [],
   "source": [
    "# files = glob.glob('{}/2*/*.json'.format(data_home))\n",
    "# files.sort()"
   ]
  },
  {
   "cell_type": "code",
   "execution_count": null,
   "metadata": {},
   "outputs": [],
   "source": [
    "t = []\n",
    "b = []\n",
    "for file in files:\n",
    "    data = objFromFile(file)\n",
    "    o = data['drive_state']\n",
    "    \n",
    "    o = data['charge_state']\n",
    "    t.append(datetime.datetime.fromtimestamp(o['timestamp'] / 1000))\n",
    "    b.append(o['battery_level'])\n",
    "    print('{} -> {}% {}'.format(os.path.basename(file), o['battery_level'], o['charging_state']))"
   ]
  },
  {
   "cell_type": "code",
   "execution_count": null,
   "metadata": {},
   "outputs": [],
   "source": [
    "fig = plt.figure(figsize=(12, 3), dpi=96)\n",
    "plt.subplots_adjust(bottom=0.2)\n",
    "plt.xticks(rotation=25)\n",
    "ax = plt.gca()\n",
    "xfmt = matplotlib.dates.DateFormatter('%Y-%m-%d %H:%M:%S')\n",
    "ax.xaxis.set_major_formatter(xfmt)\n",
    "# plt.plot(t, b, '.-')\n",
    "plt.stem(t, b)"
   ]
  },
  {
   "cell_type": "code",
   "execution_count": null,
   "metadata": {},
   "outputs": [],
   "source": [
    "for file in files[-5:]:\n",
    "    data = objFromFile(file)\n",
    "    display(file)\n",
    "    display(data['drive_state'])"
   ]
  },
  {
   "cell_type": "code",
   "execution_count": null,
   "metadata": {},
   "outputs": [],
   "source": []
  }
 ],
 "metadata": {
  "kernelspec": {
   "display_name": "Python 3",
   "language": "python",
   "name": "python3"
  },
  "language_info": {
   "codemirror_mode": {
    "name": "ipython",
    "version": 3
   },
   "file_extension": ".py",
   "mimetype": "text/x-python",
   "name": "python",
   "nbconvert_exporter": "python",
   "pygments_lexer": "ipython3",
   "version": "3.6.5"
  }
 },
 "nbformat": 4,
 "nbformat_minor": 2
}
