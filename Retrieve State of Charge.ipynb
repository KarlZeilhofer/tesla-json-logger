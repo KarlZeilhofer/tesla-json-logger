{
 "cells": [
  {
   "cell_type": "code",
   "execution_count": 1,
   "metadata": {},
   "outputs": [],
   "source": [
    "import os\n",
    "import sys\n",
    "import requests"
   ]
  },
  {
   "cell_type": "code",
   "execution_count": 2,
   "metadata": {},
   "outputs": [],
   "source": [
    "os.sys.path.append(os.path.expanduser('~/.ssh'))"
   ]
  },
  {
   "cell_type": "code",
   "execution_count": 3,
   "metadata": {},
   "outputs": [],
   "source": [
    "import tesla"
   ]
  },
  {
   "cell_type": "code",
   "execution_count": 4,
   "metadata": {},
   "outputs": [],
   "source": [
    "url = 'https://owner-api.teslamotors.com/api/1/vehicles/{}/vehicle_data'.format(tesla.vehicle_id)\n",
    "headers = {\n",
    "    'Authorization': 'Bearer {}'.format(tesla.token)\n",
    "}\n",
    "g = requests.get(url, headers=headers)"
   ]
  },
  {
   "cell_type": "code",
   "execution_count": 5,
   "metadata": {},
   "outputs": [],
   "source": [
    "ret = g.json()\n",
    "data = ret['response']"
   ]
  },
  {
   "cell_type": "code",
   "execution_count": 6,
   "metadata": {},
   "outputs": [
    {
     "name": "stdout",
     "output_type": "stream",
     "text": [
      "{'battery_heater_on': False, 'battery_level': 61, 'battery_range': 191.88, 'charge_current_request': 48, 'charge_current_request_max': 48, 'charge_enable_request': True, 'charge_energy_added': 7.22, 'charge_limit_soc': 100, 'charge_limit_soc_max': 100, 'charge_limit_soc_min': 50, 'charge_limit_soc_std': 90, 'charge_miles_added_ideal': 31.0, 'charge_miles_added_rated': 31.0, 'charge_port_cold_weather_mode': False, 'charge_port_door_open': False, 'charge_port_latch': 'Engaged', 'charge_rate': 0.0, 'charge_to_max_range': True, 'charger_actual_current': 0, 'charger_phases': None, 'charger_pilot_current': 48, 'charger_power': 0, 'charger_voltage': 1, 'charging_state': 'Disconnected', 'conn_charge_cable': '<invalid>', 'est_battery_range': 249.86, 'fast_charger_brand': '<invalid>', 'fast_charger_present': False, 'fast_charger_type': '<invalid>', 'ideal_battery_range': 191.88, 'managed_charging_active': False, 'managed_charging_start_time': None, 'managed_charging_user_canceled': False, 'max_range_charge_counter': 1, 'not_enough_power_to_heat': None, 'scheduled_charging_pending': False, 'scheduled_charging_start_time': None, 'time_to_full_charge': 0.0, 'timestamp': 1559221761055, 'trip_charging': False, 'usable_battery_level': 61, 'user_charge_enable_request': None}\n"
     ]
    }
   ],
   "source": [
    "if data is None:\n",
    "    print('Vehicle is sleeping')\n",
    "else:\n",
    "    print(data['charge_state'])"
   ]
  },
  {
   "cell_type": "code",
   "execution_count": 7,
   "metadata": {},
   "outputs": [
    {
     "data": {
      "text/plain": [
       "{'battery_heater_on': False,\n",
       " 'battery_level': 61,\n",
       " 'battery_range': 191.88,\n",
       " 'charge_current_request': 48,\n",
       " 'charge_current_request_max': 48,\n",
       " 'charge_enable_request': True,\n",
       " 'charge_energy_added': 7.22,\n",
       " 'charge_limit_soc': 100,\n",
       " 'charge_limit_soc_max': 100,\n",
       " 'charge_limit_soc_min': 50,\n",
       " 'charge_limit_soc_std': 90,\n",
       " 'charge_miles_added_ideal': 31.0,\n",
       " 'charge_miles_added_rated': 31.0,\n",
       " 'charge_port_cold_weather_mode': False,\n",
       " 'charge_port_door_open': False,\n",
       " 'charge_port_latch': 'Engaged',\n",
       " 'charge_rate': 0.0,\n",
       " 'charge_to_max_range': True,\n",
       " 'charger_actual_current': 0,\n",
       " 'charger_phases': None,\n",
       " 'charger_pilot_current': 48,\n",
       " 'charger_power': 0,\n",
       " 'charger_voltage': 1,\n",
       " 'charging_state': 'Disconnected',\n",
       " 'conn_charge_cable': '<invalid>',\n",
       " 'est_battery_range': 249.86,\n",
       " 'fast_charger_brand': '<invalid>',\n",
       " 'fast_charger_present': False,\n",
       " 'fast_charger_type': '<invalid>',\n",
       " 'ideal_battery_range': 191.88,\n",
       " 'managed_charging_active': False,\n",
       " 'managed_charging_start_time': None,\n",
       " 'managed_charging_user_canceled': False,\n",
       " 'max_range_charge_counter': 1,\n",
       " 'not_enough_power_to_heat': None,\n",
       " 'scheduled_charging_pending': False,\n",
       " 'scheduled_charging_start_time': None,\n",
       " 'time_to_full_charge': 0.0,\n",
       " 'timestamp': 1559221761055,\n",
       " 'trip_charging': False,\n",
       " 'usable_battery_level': 61,\n",
       " 'user_charge_enable_request': None}"
      ]
     },
     "execution_count": 7,
     "metadata": {},
     "output_type": "execute_result"
    }
   ],
   "source": [
    "data['charge_state']"
   ]
  },
  {
   "cell_type": "code",
   "execution_count": null,
   "metadata": {},
   "outputs": [],
   "source": []
  }
 ],
 "metadata": {
  "kernelspec": {
   "display_name": "Python 3",
   "language": "python",
   "name": "python3"
  },
  "language_info": {
   "codemirror_mode": {
    "name": "ipython",
    "version": 3
   },
   "file_extension": ".py",
   "mimetype": "text/x-python",
   "name": "python",
   "nbconvert_exporter": "python",
   "pygments_lexer": "ipython3",
   "version": "3.6.5"
  }
 },
 "nbformat": 4,
 "nbformat_minor": 2
}
