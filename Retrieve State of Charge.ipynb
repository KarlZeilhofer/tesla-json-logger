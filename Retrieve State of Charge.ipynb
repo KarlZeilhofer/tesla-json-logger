{
 "cells": [
  {
   "cell_type": "code",
   "execution_count": 1,
   "metadata": {},
   "outputs": [],
   "source": [
    "import os\n",
    "import sys\n",
    "import requests"
   ]
  },
  {
   "cell_type": "code",
   "execution_count": 2,
   "metadata": {},
   "outputs": [],
   "source": [
    "os.sys.path.append(os.path.expanduser('~/.ssh'))"
   ]
  },
  {
   "cell_type": "code",
   "execution_count": 3,
   "metadata": {},
   "outputs": [],
   "source": [
    "import tesla"
   ]
  },
  {
   "cell_type": "code",
   "execution_count": 4,
   "metadata": {},
   "outputs": [],
   "source": [
    "url = 'https://owner-api.teslamotors.com/api/1/vehicles/{}/vehicle_data'.format(tesla.vehicle_id)\n",
    "headers = {\n",
    "    'Authorization': 'Bearer {}'.format(tesla.token)\n",
    "}\n",
    "g = requests.get(url, headers=headers)"
   ]
  },
  {
   "cell_type": "code",
   "execution_count": 5,
   "metadata": {},
   "outputs": [],
   "source": [
    "ret = g.json()\n",
    "data = ret['response']"
   ]
  },
  {
   "cell_type": "code",
   "execution_count": 8,
   "metadata": {},
   "outputs": [
    {
     "data": {
      "text/plain": [
       "{'battery_heater_on': False,\n",
       " 'battery_level': 20,\n",
       " 'battery_range': 64.41,\n",
       " 'charge_current_request': 32,\n",
       " 'charge_current_request_max': 32,\n",
       " 'charge_enable_request': True,\n",
       " 'charge_energy_added': 1.67,\n",
       " 'charge_limit_soc': 81,\n",
       " 'charge_limit_soc_max': 100,\n",
       " 'charge_limit_soc_min': 50,\n",
       " 'charge_limit_soc_std': 90,\n",
       " 'charge_miles_added_ideal': 7.0,\n",
       " 'charge_miles_added_rated': 7.0,\n",
       " 'charge_port_cold_weather_mode': False,\n",
       " 'charge_port_door_open': True,\n",
       " 'charge_port_latch': 'Engaged',\n",
       " 'charge_rate': 24.9,\n",
       " 'charge_to_max_range': False,\n",
       " 'charger_actual_current': 32,\n",
       " 'charger_phases': 1,\n",
       " 'charger_pilot_current': 32,\n",
       " 'charger_power': 6,\n",
       " 'charger_voltage': 202,\n",
       " 'charging_state': 'Charging',\n",
       " 'conn_charge_cable': 'SAE',\n",
       " 'est_battery_range': 70.81,\n",
       " 'fast_charger_brand': '<invalid>',\n",
       " 'fast_charger_present': False,\n",
       " 'fast_charger_type': 'MCSingleWireCAN',\n",
       " 'ideal_battery_range': 64.41,\n",
       " 'managed_charging_active': False,\n",
       " 'managed_charging_start_time': None,\n",
       " 'managed_charging_user_canceled': False,\n",
       " 'max_range_charge_counter': 0,\n",
       " 'not_enough_power_to_heat': None,\n",
       " 'scheduled_charging_pending': False,\n",
       " 'scheduled_charging_start_time': None,\n",
       " 'time_to_full_charge': 7.33,\n",
       " 'timestamp': 1563799612017,\n",
       " 'trip_charging': False,\n",
       " 'usable_battery_level': 20,\n",
       " 'user_charge_enable_request': None}"
      ]
     },
     "metadata": {},
     "output_type": "display_data"
    }
   ],
   "source": [
    "if data is None:\n",
    "    print('Vehicle is sleeping')\n",
    "else:\n",
    "    display(data['charge_state'])"
   ]
  },
  {
   "cell_type": "code",
   "execution_count": null,
   "metadata": {},
   "outputs": [],
   "source": []
  }
 ],
 "metadata": {
  "kernelspec": {
   "display_name": "Python 3",
   "language": "python",
   "name": "python3"
  },
  "language_info": {
   "codemirror_mode": {
    "name": "ipython",
    "version": 3
   },
   "file_extension": ".py",
   "mimetype": "text/x-python",
   "name": "python",
   "nbconvert_exporter": "python",
   "pygments_lexer": "ipython3",
   "version": "3.6.5"
  }
 },
 "nbformat": 4,
 "nbformat_minor": 2
}
